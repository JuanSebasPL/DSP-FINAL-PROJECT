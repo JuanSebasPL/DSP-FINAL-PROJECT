{
 "cells": [
  {
   "cell_type": "code",
   "execution_count": 2,
   "id": "cadfc389",
   "metadata": {},
   "outputs": [
    {
     "name": "stdout",
     "output_type": "stream",
     "text": [
      "  Pregnancies  Glucose  BloodPressure  SkinThickness  Insulin   BMI  \\\n",
      "0     unknown      148             72             35        0  33.6   \n",
      "1           1       85             66             29        0  26.6   \n",
      "2           8      183             64              0        0  23.3   \n",
      "3           1       89             66             23       94  28.1   \n",
      "4           0      137             40             35      168  43.1   \n",
      "5           5      116             74              0        0  25.6   \n",
      "6           3       78             50             32       88  31.0   \n",
      "\n",
      "   DiabetesPedigreeFunction  Age  Outcome  \n",
      "0                     0.627   50        1  \n",
      "1                     0.351   31        0  \n",
      "2                     0.672   32        1  \n",
      "3                     0.167   21        0  \n",
      "4                     2.288   33        1  \n",
      "5                     0.201   30        0  \n",
      "6                     0.248   26        1  \n"
     ]
    },
    {
     "name": "stderr",
     "output_type": "stream",
     "text": [
      "/var/folders/p0/km3bmxqn5qbg_jphs9wbxnlr0000gn/T/ipykernel_93646/3645809947.py:9: FutureWarning: Setting an item of incompatible dtype is deprecated and will raise an error in a future version of pandas. Value 'unknown' has dtype incompatible with int64, please explicitly cast to a compatible dtype first.\n",
      "  df_issue.iloc[0, df_issue.columns.get_loc(\"Pregnancies\")] = \"unknown\"\n"
     ]
    }
   ],
   "source": [
    "import pandas as pd\n",
    "import numpy as np\n",
    "\n",
    "df = pd.read_csv(\"diabetes.csv\")\n",
    "\n",
    "df_issue = df.copy().head(7) \n",
    "\n",
    "## Unknown but string values\n",
    "df_issue.iloc[0, df_issue.columns.get_loc(\"Pregnancies\")] = \"unknown\"  \n",
    "\n",
    "print(df_issue)\n"
   ]
  },
  {
   "cell_type": "code",
   "execution_count": null,
   "id": "78a4daf2",
   "metadata": {},
   "outputs": [
    {
     "name": "stdout",
     "output_type": "stream",
     "text": [
      "   Pregnancies  Glucose  BloodPressure  SkinThickness  Insulin   BMI  \\\n",
      "0            6    148.0             72             35        0  33.6   \n",
      "1            1      NaN             66             29        0  26.6   \n",
      "2            8    183.0             64              0        0  23.3   \n",
      "3            1     89.0             66             23       94  28.1   \n",
      "4            0    137.0             40             35      168  43.1   \n",
      "5            5    116.0             74              0        0  25.6   \n",
      "6            3     78.0             50             32       88  31.0   \n",
      "\n",
      "   DiabetesPedigreeFunction  Age  Outcome  \n",
      "0                     0.627   50        1  \n",
      "1                     0.351   31        0  \n",
      "2                     0.672   32        1  \n",
      "3                     0.167   21        0  \n",
      "4                     2.288   33        1  \n",
      "5                     0.201   30        0  \n",
      "6                     0.248   26        1  \n"
     ]
    }
   ],
   "source": [
    "\n",
    "##  Nan values\n",
    "df_issue = df.copy().head(7) \n",
    "df_issue.iloc[0, df_issue.columns.get_loc(\"Glucose\")] = np.nan  \n",
    "print(df_issue)\n"
   ]
  },
  {
   "cell_type": "code",
   "execution_count": null,
   "id": "938115d4",
   "metadata": {},
   "outputs": [
    {
     "name": "stdout",
     "output_type": "stream",
     "text": [
      "   Pregnancies  Glucose  BloodPressure  SkinThickness  Insulin   BMI  \\\n",
      "0            6      148             72             35        0  33.6   \n",
      "1            1       85             66             29        0  26.6   \n",
      "2            8      183            -10              0        0  23.3   \n",
      "3            1       89             66             23       94  28.1   \n",
      "4            0      137             40             35      168  43.1   \n",
      "5            5      116             74              0        0  25.6   \n",
      "6            3       78             50             32       88  31.0   \n",
      "\n",
      "   DiabetesPedigreeFunction  Age  Outcome  \n",
      "0                     0.627   50        1  \n",
      "1                     0.351   31        0  \n",
      "2                     0.672   32        1  \n",
      "3                     0.167   21        0  \n",
      "4                     2.288   33        1  \n",
      "5                     0.201   30        0  \n",
      "6                     0.248   26        1  \n"
     ]
    }
   ],
   "source": [
    "\n",
    "## Negative values\n",
    "df_issue = df.copy().head(7) \n",
    "df_issue.iloc[0, df_issue.columns.get_loc(\"BloodPressure\")] = -10  \n",
    "print(df_issue)\n",
    "\n"
   ]
  },
  {
   "cell_type": "code",
   "execution_count": 7,
   "id": "d1d0dd76",
   "metadata": {},
   "outputs": [
    {
     "name": "stdout",
     "output_type": "stream",
     "text": [
      "   Pregnancies  Glucose  BloodPressure SkinThickness  Insulin   BMI  \\\n",
      "0            6      148             72           35         0  33.6   \n",
      "1            1       85             66            29        0  26.6   \n",
      "2            8      183             64             0        0  23.3   \n",
      "3            1       89             66            23       94  28.1   \n",
      "4            0      137             40            35      168  43.1   \n",
      "5            5      116             74             0        0  25.6   \n",
      "6            3       78             50            32       88  31.0   \n",
      "\n",
      "   DiabetesPedigreeFunction  Age  Outcome  \n",
      "0                     0.627   50        1  \n",
      "1                     0.351   31        0  \n",
      "2                     0.672   32        1  \n",
      "3                     0.167   21        0  \n",
      "4                     2.288   33        1  \n",
      "5                     0.201   30        0  \n",
      "6                     0.248   26        1  \n"
     ]
    },
    {
     "name": "stderr",
     "output_type": "stream",
     "text": [
      "/var/folders/p0/km3bmxqn5qbg_jphs9wbxnlr0000gn/T/ipykernel_93646/4054195245.py:3: FutureWarning: Setting an item of incompatible dtype is deprecated and will raise an error in a future version of pandas. Value ' 35 ' has dtype incompatible with int64, please explicitly cast to a compatible dtype first.\n",
      "  df_issue.iloc[0, df_issue.columns.get_loc(\"SkinThickness\")] = \" 35 \"\n"
     ]
    }
   ],
   "source": [
    "##Correct value but in string format with spaces\n",
    "df_issue = df.copy().head(7) \n",
    "df_issue.iloc[0, df_issue.columns.get_loc(\"SkinThickness\")] = \" 35 \"  \n",
    "\n",
    "print(df_issue)"
   ]
  },
  {
   "cell_type": "code",
   "execution_count": 10,
   "id": "7e082657",
   "metadata": {},
   "outputs": [
    {
     "name": "stdout",
     "output_type": "stream",
     "text": [
      "   Pregnancies  Glucose  BloodPressure  SkinThickness Insulin   BMI  \\\n",
      "0            6      148             72             35       -  33.6   \n",
      "1            1       85             66             29       0  26.6   \n",
      "2            8      183             64              0       0  23.3   \n",
      "3            1       89             66             23      94  28.1   \n",
      "4            0      137             40             35     168  43.1   \n",
      "5            5      116             74              0       0  25.6   \n",
      "6            3       78             50             32      88  31.0   \n",
      "\n",
      "   DiabetesPedigreeFunction  Age  Outcome  \n",
      "0                     0.627   50        1  \n",
      "1                     0.351   31        0  \n",
      "2                     0.672   32        1  \n",
      "3                     0.167   21        0  \n",
      "4                     2.288   33        1  \n",
      "5                     0.201   30        0  \n",
      "6                     0.248   26        1  \n"
     ]
    },
    {
     "name": "stderr",
     "output_type": "stream",
     "text": [
      "/var/folders/p0/km3bmxqn5qbg_jphs9wbxnlr0000gn/T/ipykernel_93646/3924711637.py:3: FutureWarning: Setting an item of incompatible dtype is deprecated and will raise an error in a future version of pandas. Value '-' has dtype incompatible with int64, please explicitly cast to a compatible dtype first.\n",
      "  df_issue.iloc[0, df_issue.columns.get_loc(\"Insulin\")] = \"-\"\n"
     ]
    }
   ],
   "source": [
    "# Symbols instead of values\n",
    "df_issue = df.copy().head(7) \n",
    "df_issue.iloc[0, df_issue.columns.get_loc(\"Insulin\")] = \"-\"   \n",
    "\n",
    "print(df_issue)"
   ]
  },
  {
   "cell_type": "code",
   "execution_count": 13,
   "id": "bb028b03",
   "metadata": {},
   "outputs": [
    {
     "name": "stdout",
     "output_type": "stream",
     "text": [
      "   Pregnancies  Glucose  BloodPressure  SkinThickness  Insulin     BMI  \\\n",
      "0            6      148             72             35        0  thirty   \n",
      "1            1       85             66             29        0    26.6   \n",
      "2            8      183             64              0        0    23.3   \n",
      "3            1       89             66             23       94    28.1   \n",
      "4            0      137             40             35      168    43.1   \n",
      "5            5      116             74              0        0    25.6   \n",
      "6            3       78             50             32       88    31.0   \n",
      "\n",
      "   DiabetesPedigreeFunction  Age  Outcome  \n",
      "0                     0.627   50        1  \n",
      "1                     0.351   31        0  \n",
      "2                     0.672   32        1  \n",
      "3                     0.167   21        0  \n",
      "4                     2.288   33        1  \n",
      "5                     0.201   30        0  \n",
      "6                     0.248   26        1  \n"
     ]
    },
    {
     "name": "stderr",
     "output_type": "stream",
     "text": [
      "/var/folders/p0/km3bmxqn5qbg_jphs9wbxnlr0000gn/T/ipykernel_93646/3405301216.py:3: FutureWarning: Setting an item of incompatible dtype is deprecated and will raise an error in a future version of pandas. Value 'thirty' has dtype incompatible with float64, please explicitly cast to a compatible dtype first.\n",
      "  df_issue.iloc[0, df_issue.columns.get_loc(\"BMI\")] = \"thirty\"\n"
     ]
    }
   ],
   "source": [
    "# Correct value in a string format\n",
    "df_issue = df.copy().head(7) \n",
    "df_issue.iloc[0, df_issue.columns.get_loc(\"BMI\")] = \"thirty\"      \n",
    "\n",
    "print(df_issue)"
   ]
  },
  {
   "cell_type": "code",
   "execution_count": 17,
   "id": "0d71a40a",
   "metadata": {},
   "outputs": [
    {
     "name": "stdout",
     "output_type": "stream",
     "text": [
      "   Pregnancies  Glucose  BloodPressure  SkinThickness  Insulin   BMI  \\\n",
      "0            6      148             72             35        0  33.6   \n",
      "1            1       85             66             29        0  26.6   \n",
      "2            8      183             64              0        0  23.3   \n",
      "3            1       89             66             23       94  28.1   \n",
      "4            0      137             40             35      168  43.1   \n",
      "5            5      116             74              0        0  25.6   \n",
      "6            3       78             50             32       88  31.0   \n",
      "\n",
      "   DiabetesPedigreeFunction         Age  Outcome  \n",
      "0                     0.627          50        1  \n",
      "1                     0.351          31        0  \n",
      "2                     0.672          32        1  \n",
      "3                     0.167          21        0  \n",
      "4                     2.288          33        1  \n",
      "5                     0.201          30        0  \n",
      "6                     0.248  1900-01-01        1  \n"
     ]
    },
    {
     "name": "stderr",
     "output_type": "stream",
     "text": [
      "/var/folders/p0/km3bmxqn5qbg_jphs9wbxnlr0000gn/T/ipykernel_93646/3464837504.py:5: FutureWarning: Setting an item of incompatible dtype is deprecated and will raise an error in a future version of pandas. Value '1900-01-01' has dtype incompatible with int64, please explicitly cast to a compatible dtype first.\n",
      "  df_issue.iloc[6, df_issue.columns.get_loc(\"Age\")] = datetime(1900, 1, 1).date()\n"
     ]
    }
   ],
   "source": [
    "from datetime import datetime\n",
    "\n",
    "#Date type\n",
    "df_issue = df.copy().head(7) \n",
    "df_issue.iloc[6, df_issue.columns.get_loc(\"Age\")] = datetime(1900, 1, 1).date()  \n",
    "\n",
    "print(df_issue)"
   ]
  }
 ],
 "metadata": {
  "kernelspec": {
   "display_name": "dsp",
   "language": "python",
   "name": "python3"
  },
  "language_info": {
   "codemirror_mode": {
    "name": "ipython",
    "version": 3
   },
   "file_extension": ".py",
   "mimetype": "text/x-python",
   "name": "python",
   "nbconvert_exporter": "python",
   "pygments_lexer": "ipython3",
   "version": "3.10.18"
  }
 },
 "nbformat": 4,
 "nbformat_minor": 5
}
